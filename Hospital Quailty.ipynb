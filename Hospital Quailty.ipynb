{
    "nbformat_minor": 1, 
    "cells": [
        {
            "source": "**Research question:**\n----------------------\n\nLets say I'm at work, daydreaming of retirement. Given that I work at a hospital, I'm well aware that I'll probably spend more time in hospitals later on in life than I do now. So I'll probably want to live near the best hospitals. If hospital quality were the only deciding factor, which state should I plan to retire in?\n\n**Methodology:**\n----------------\n\nExplore the data. Plot the data. Make decisions based on the data. Save up enough money to retire, and remember to check on these hospitals in about 30 years because the results might have changed by then. \n\nI'll comment out my code as much as possible, as reading others' comments has helped me tremendously. Lets begin by importing the data & loading all the libraries we'll use.\n\n**Insert Hospital Info File as R Dataframe Below**", 
            "cell_type": "markdown", 
            "metadata": {
                "_cell_guid": "3a034063-397a-3022-6968-1e8d6a761c40"
            }
        }, 
        {
            "execution_count": null, 
            "cell_type": "code", 
            "metadata": {}, 
            "outputs": [], 
            "source": "# The code was removed by DSX for sharing."
        }, 
        {
            "execution_count": null, 
            "cell_type": "code", 
            "metadata": {
                "_cell_guid": "666cbcb1-4a95-a31f-5595-a5d69b9cafac"
            }, 
            "outputs": [], 
            "source": "# Import data & load libraries-----------------------\nlibrary(tidyr) # for data manipulation\nlibrary(dplyr) # for data manipulation\nlibrary(ggplot2) # for data visualization"
        }, 
        {
            "execution_count": null, 
            "cell_type": "code", 
            "metadata": {
                "_cell_guid": "89085eb6-53d8-47fd-4e6e-12b176896e01"
            }, 
            "outputs": [], 
            "source": "# Explore data-----------------------\ndim(Hosp) #how many obs. & variables are there?"
        }, 
        {
            "execution_count": null, 
            "cell_type": "code", 
            "metadata": {
                "_cell_guid": "c801b68b-517f-15df-bb98-5b21f8fc7caf"
            }, 
            "outputs": [], 
            "source": "# Smooth data into formats easier to work with \nHosp$Hospital.overall.rating <- as.numeric(Hosp$Hospital.overall.rating)\n\n# Subset of Hospitals that have ER services & an overall rating\nHosp2 <- subset(Hosp, Hospital.overall.rating >= 1\n                & Emergency.Services == \"true\")\n\ntable(Hosp2$Hospital.overall.rating)"
        }, 
        {
            "execution_count": null, 
            "cell_type": "code", 
            "metadata": {
                "_cell_guid": "428a0d9a-bd0c-0b56-f077-3d932887335e"
            }, 
            "outputs": [], 
            "source": "# Find the mean star rating\nHosp2 %>% \n  summarise (mean = mean(Hospital.overall.rating))"
        }, 
        {
            "source": "Lets find the mean star rating, by state, then create a basic plot to quickly view the information.", 
            "cell_type": "markdown", 
            "metadata": {
                "_cell_guid": "6237c459-14bf-b327-095e-08f67bf5fa95"
            }
        }, 
        {
            "execution_count": null, 
            "cell_type": "code", 
            "metadata": {
                "_cell_guid": "ca773fee-f1cc-e2c9-bccb-fc6d6a06180d"
            }, 
            "outputs": [], 
            "source": "# Find the mean star rating, by state\nratebystate <- as.data.frame(Hosp2 %>% \n                               group_by(State) %>%\n                               summarise (mean = mean(Hospital.overall.rating)))\n# plot it\nggplot(data = ratebystate, \n       aes(x = State, y = mean)) + \n  geom_bar(stat = \"identity\") + \n  geom_text(aes(label = round(ratebystate$mean,2)), # label each bar with the mean, rounded to two digits\n            hjust = -0.5) + #adjust the label to be a bit to the R of the bar, for easy visibility\n  coord_flip() # flip the chart horizontally"
        }, 
        {
            "source": "Looks like South Dakota might be the winner! My apologies to those who live in DC. \n\nMy next steps will be to make the data a little easier to view & understand. After all, it might take some convincing to get my spouse on-board with the move, so I'll need to make the case as clearly & attractively as possible. Lets see what we can do to make the information look nicer.", 
            "cell_type": "markdown", 
            "metadata": {
                "_cell_guid": "4e7d353a-42d9-40f8-9795-64921acce16f"
            }
        }, 
        {
            "execution_count": null, 
            "cell_type": "code", 
            "metadata": {
                "_cell_guid": "9cd85ca2-7710-32cf-8176-a31003bbc9fd"
            }, 
            "outputs": [], 
            "source": "#plot it in descending order\nggplot(data = ratebystate, \n       aes(x = reorder(State, mean),\n           y = mean)) + \n  geom_bar(stat = \"identity\", aes(fill = mean)) + \n  geom_text(aes(label = round(ratebystate$mean,2)), # label each bar with the mean, rounded to two digits\n            hjust = -0.5) + #adjust the label to be a bit to the R of the bar, for easy visibility\n  labs(x = \"State\", y = \"Mean Rating\") + # label axes\n  coord_flip() + # flip the chart horizontally\n  theme_minimal() +\n  theme(legend.position = \"none\")"
        }, 
        {
            "source": "South Dakota is definitely the winner. Interestingly, three of the bottom five performers are a non-state metro area (DC) & 2 US territories--the Virgin Islands (VI) and Puerto Rico (PR). New York & Nevada round out the bunch. \n\nThere's more that could be done here, but I think this is a good start! Next perhaps I'll create a choropleth (color-coded map) to display the average hospital rating by state, and see which types of hospital ownership are conducive to the highest-quality hospitals. ", 
            "cell_type": "markdown", 
            "metadata": {
                "_cell_guid": "166509e3-ab83-2965-619a-831f563264f0"
            }
        }, 
        {
            "execution_count": null, 
            "cell_type": "code", 
            "metadata": {}, 
            "outputs": [], 
            "source": ""
        }
    ], 
    "metadata": {
        "kernelspec": {
            "display_name": "R", 
            "name": "r", 
            "language": "R"
        }, 
        "language_info": {
            "mimetype": "text/x-r-source", 
            "version": "3.4.2", 
            "name": "R", 
            "pygments_lexer": "r", 
            "file_extension": ".r", 
            "codemirror_mode": "r"
        }, 
        "_change_revision": 4, 
        "_is_fork": false
    }, 
    "nbformat": 4
}